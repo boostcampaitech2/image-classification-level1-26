{
 "cells": [
  {
   "cell_type": "code",
   "execution_count": 10,
   "id": "033639d5-cef2-4c83-a0a3-5a11354d1659",
   "metadata": {},
   "outputs": [],
   "source": [
    "import torch\n",
    "import pandas as pd\n",
    "import numpy as np\n",
    "import matplotlib.pyplot as plt\n",
    "from facenet_pytorch import MTCNN\n",
    "import io\n",
    "import os, cv2\n",
    "from PIL import Image\n",
    "from PIL import ImageFile\n",
    "#from rembg.bg import remove"
   ]
  },
  {
   "cell_type": "code",
   "execution_count": 11,
   "id": "bef44fa5-5331-408c-8361-c7454e301dca",
   "metadata": {},
   "outputs": [],
   "source": [
    "mtcnn = MTCNN(keep_all=True, device='cuda')\n",
    "new_img_dir = '/opt/ml/input/data/train/new_images'\n",
    "img_path = '/opt/ml/input/data/train/images'\n",
    "cnt = 0"
   ]
  },
  {
   "cell_type": "code",
   "execution_count": 23,
   "id": "24810c30-5205-4d00-aca2-afed0740dddd",
   "metadata": {},
   "outputs": [],
   "source": [
    "for paths in os.listdir(img_path):\n",
    "    if paths[0] == '.': continue\n",
    "    \n",
    "    sub_dir = os.path.join(img_path, paths)\n",
    "    new_sub_dir = os.path.join(new_img_dir, paths)\n",
    "    if not os.path.exists(new_sub_dir):  \n",
    "        os.makedirs(new_sub_dir)\n",
    "    \n",
    "    for imgs in os.listdir(sub_dir):\n",
    "        if imgs[0] == '.': continue\n",
    "        \n",
    "        img_dir = os.path.join(sub_dir, imgs)\n",
    "        img = Image.open(img_dir)\n",
    "        boxes,probs = mtcnn.detect(img)\n",
    "        \n",
    "        \n",
    "        if not isinstance(boxes, np.ndarray):\n",
    "            img = img.crop((50, 100, 350, 400))\n",
    "        else:\n",
    "            xmin = int(boxes[0, 0])-30\n",
    "            ymin = int(boxes[0, 1])-30\n",
    "            xmax = int(boxes[0, 2])+30\n",
    "            ymax = int(boxes[0, 3])+30\n",
    "            \n",
    "            if xmin < 0: xmin = 0\n",
    "            if ymin < 0: ymin = 0\n",
    "            if xmax > 384: xmax = 384\n",
    "            if ymax > 512: ymax = 512\n",
    "            \n",
    "            img = img.crop((xmin, ymin, xmax, ymax))\n",
    "                \n",
    "        tmp = os.path.join(new_img_dir, paths)\n",
    "        img = img.resize((384,512))\n",
    "#         cnt += 1\n",
    "        img.save(os.path.join(tmp, imgs))\n",
    "        "
   ]
  },
  {
   "cell_type": "code",
   "execution_count": null,
   "id": "400e30a8-3074-4e43-b2d5-9607dc610fa4",
   "metadata": {},
   "outputs": [],
   "source": []
  }
 ],
 "metadata": {
  "kernelspec": {
   "display_name": "Python 3",
   "language": "python",
   "name": "python3"
  },
  "language_info": {
   "codemirror_mode": {
    "name": "ipython",
    "version": 3
   },
   "file_extension": ".py",
   "mimetype": "text/x-python",
   "name": "python",
   "nbconvert_exporter": "python",
   "pygments_lexer": "ipython3",
   "version": "3.8.5"
  }
 },
 "nbformat": 4,
 "nbformat_minor": 5
}
